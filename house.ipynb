{
 "cells": [
  {
   "cell_type": "code",
   "execution_count": 3,
   "metadata": {},
   "outputs": [
    {
     "name": "stdout",
     "output_type": "stream",
     "text": [
      "(131, 131)\n"
     ]
    }
   ],
   "source": [
    "import numpy as np\n",
    "n = np.random.randint(100,150)\n",
    "r = np.random.randint(5,15)\n",
    "\n",
    "#construct rank-deficient A\n",
    "A = np.random.rand(n,n)\n",
    "u,s,vt = np.linalg.svd(A)\n",
    "s1 = np.array([10**(-i) for i in range(r)])\n",
    "s[-r:] = s1\n",
    "A = u @ np.diag(s) @ vt\n",
    "\n",
    "def apply_householder(Q, R, col):\n",
    "    #compute Householder vector\n",
    "    v = np.zeros(R[col:, col].shape)\n",
    "    v[0] += np.sign(R[col, col])*np.linalg.norm(R[col:, col])\n",
    "    v += R[col:,col]\n",
    "\n",
    "    #apply Householder vector\n",
    "    k = 2./np.inner(v,v)\n",
    "    R[col:,col:] -= k * np.outer(v, v @ R[col:,col:])\n",
    "    Q[:,col:] -= k * np.outer(Q[:,col:] @ v, v)\n",
    "\n",
    "def not_allowed(*args, **kwargs):\n",
    "    raise RuntimeError(\"You called an illegal function.\")\n",
    "\n",
    "import scipy.linalg as sla\n",
    "for attr in dir(sla):\n",
    "    setattr(sla, attr, not_allowed)\n",
    "attrs = dir(np.linalg)\n",
    "attrs.remove('norm')\n",
    "for attr in attrs:\n",
    "    setattr(np.linalg, attr, not_allowed)\n",
    "\n",
    "print(A.shape)"
   ]
  },
  {
   "cell_type": "code",
   "execution_count": 2,
   "metadata": {},
   "outputs": [],
   "source": [
    "import numpy.linalg as la"
   ]
  },
  {
   "cell_type": "code",
   "execution_count": 59,
   "metadata": {},
   "outputs": [
    {
     "name": "stdout",
     "output_type": "stream",
     "text": [
      "[[0.61117334 0.8913618  0.62356561 ... 0.93986013 0.09426559 0.45166992]\n",
      " [0.40659802 0.09359341 0.90237501 ... 0.52612201 0.92020463 0.29768363]\n",
      " [0.18365107 0.66831989 0.00700192 ... 0.2635919  0.56116937 0.89595083]\n",
      " ...\n",
      " [0.20577404 0.82714231 0.90271613 ... 0.0582662  0.35530139 0.92361163]\n",
      " [0.30804452 0.86681327 0.16861099 ... 0.80047958 0.97777402 0.26591518]\n",
      " [0.1799981  0.7763416  0.12980681 ... 0.73486069 0.5715216  0.11523652]]\n",
      "[[0.61117334 0.8913618  0.62356561 ... 0.93986013 0.09426559 0.45166992]\n",
      " [0.40659802 0.09359341 0.90237501 ... 0.52612201 0.92020463 0.29768363]\n",
      " [0.18365107 0.66831989 0.00700192 ... 0.2635919  0.56116937 0.89595083]\n",
      " ...\n",
      " [0.20577404 0.82714231 0.90271613 ... 0.0582662  0.35530139 0.92361163]\n",
      " [0.30804452 0.86681327 0.16861099 ... 0.80047958 0.97777402 0.26591518]\n",
      " [0.1799981  0.7763416  0.12980681 ... 0.73486069 0.5715216  0.11523652]]\n"
     ]
    }
   ],
   "source": [
    "Q = np.eye(n,n)\n",
    "R = A.copy()\n",
    "PP = np.arange(n)\n",
    "P = np.arange(n)\n",
    "\n",
    "\n",
    "for i in range(n):\n",
    "    idx = i+np.argmax(la.norm(R[i:,i:],axis=0))\n",
    "    PP[i] = idx \n",
    "    R[:,[i,idx]] = R[:,[idx,i]] \n",
    "    apply_householder(Q,R,i)\n",
    "for i in range(n):\n",
    "    tmp = P[i]\n",
    "    P[i] = P[PP[i]]\n",
    "    P[PP[i]] = tmp\n",
    "print(Q@R)\n",
    "print(A[:,P])"
   ]
  },
  {
   "cell_type": "code",
   "execution_count": 5,
   "metadata": {},
   "outputs": [
    {
     "ename": "RuntimeError",
     "evalue": "You called an illegal function.",
     "output_type": "error",
     "traceback": [
      "\u001b[0;31m---------------------------------------------------------------------------\u001b[0m",
      "\u001b[0;31mRuntimeError\u001b[0m                              Traceback (most recent call last)",
      "\u001b[1;32m/home/me/OneDrive/Study/Numerical Analysis/Notebooks/Homeworks/house.ipynb Cell 4'\u001b[0m in \u001b[0;36m<cell line: 5>\u001b[0;34m()\u001b[0m\n\u001b[1;32m      <a href='vscode-notebook-cell:/home/me/OneDrive/Study/Numerical%20Analysis/Notebooks/Homeworks/house.ipynb#ch0000003?line=2'>3</a>\u001b[0m F[\u001b[39m1\u001b[39m,\u001b[39m1\u001b[39m] \u001b[39m=\u001b[39m \u001b[39m2\u001b[39m\n\u001b[1;32m      <a href='vscode-notebook-cell:/home/me/OneDrive/Study/Numerical%20Analysis/Notebooks/Homeworks/house.ipynb#ch0000003?line=3'>4</a>\u001b[0m F[\u001b[39m2\u001b[39m,\u001b[39m2\u001b[39m] \u001b[39m=\u001b[39m \u001b[39m1\u001b[39m \n\u001b[0;32m----> <a href='vscode-notebook-cell:/home/me/OneDrive/Study/Numerical%20Analysis/Notebooks/Homeworks/house.ipynb#ch0000003?line=4'>5</a>\u001b[0m \u001b[39mprint\u001b[39m(la\u001b[39m.\u001b[39;49mcond(F))\n",
      "\u001b[1;32m/home/me/OneDrive/Study/Numerical Analysis/Notebooks/Homeworks/house.ipynb Cell 1'\u001b[0m in \u001b[0;36mnot_allowed\u001b[0;34m(*args, **kwargs)\u001b[0m\n\u001b[1;32m     <a href='vscode-notebook-cell:/home/me/OneDrive/Study/Numerical%20Analysis/Notebooks/Homeworks/house.ipynb#ch0000000?line=22'>23</a>\u001b[0m \u001b[39mdef\u001b[39;00m \u001b[39mnot_allowed\u001b[39m(\u001b[39m*\u001b[39margs, \u001b[39m*\u001b[39m\u001b[39m*\u001b[39mkwargs):\n\u001b[0;32m---> <a href='vscode-notebook-cell:/home/me/OneDrive/Study/Numerical%20Analysis/Notebooks/Homeworks/house.ipynb#ch0000000?line=23'>24</a>\u001b[0m     \u001b[39mraise\u001b[39;00m \u001b[39mRuntimeError\u001b[39;00m(\u001b[39m\"\u001b[39m\u001b[39mYou called an illegal function.\u001b[39m\u001b[39m\"\u001b[39m)\n",
      "\u001b[0;31mRuntimeError\u001b[0m: You called an illegal function."
     ]
    }
   ],
   "source": []
  }
 ],
 "metadata": {
  "interpreter": {
   "hash": "e7370f93d1d0cde622a1f8e1c04877d8463912d04d973331ad4851f04de6915a"
  },
  "kernelspec": {
   "display_name": "Python 3.10.4 64-bit",
   "language": "python",
   "name": "python3"
  },
  "language_info": {
   "codemirror_mode": {
    "name": "ipython",
    "version": 3
   },
   "file_extension": ".py",
   "mimetype": "text/x-python",
   "name": "python",
   "nbconvert_exporter": "python",
   "pygments_lexer": "ipython3",
   "version": "3.10.4"
  },
  "orig_nbformat": 4
 },
 "nbformat": 4,
 "nbformat_minor": 2
}
