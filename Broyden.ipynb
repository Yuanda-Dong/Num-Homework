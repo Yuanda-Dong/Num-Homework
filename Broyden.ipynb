{
 "cells": [
  {
   "cell_type": "code",
   "execution_count": 15,
   "metadata": {},
   "outputs": [],
   "source": [
    "import numpy as np"
   ]
  },
  {
   "cell_type": "code",
   "execution_count": 29,
   "metadata": {},
   "outputs": [],
   "source": [
    "def f(x):\n",
    "    x_1 = x[0,0] \n",
    "    x_2 = x[1,0]\n",
    "    out = np.zeros((2,1))\n",
    "    out[0,0] = x_1**4+x_2**4-1\n",
    "    out[1,0] = x_1**3-x_2\n",
    "    # print(out)\n",
    "    return out \n",
    "\n",
    "def Jac(x):\n",
    "    x_1 = x[0,0] \n",
    "    x_2 = x[1,0]\n",
    "    return np.array([[4*x_1**3,4*x_2**3],[3*x_1**2,-1]])\n",
    "\n",
    "def Broyden_step(B,y,s):\n",
    "\n",
    "    return B+((y-B@s)@s.T)/np.inner(s,s)\n"
   ]
  },
  {
   "cell_type": "code",
   "execution_count": 30,
   "metadata": {},
   "outputs": [
    {
     "name": "stdout",
     "output_type": "stream",
     "text": [
      "0.34004799661224283\n",
      "0.6150647516658491\n",
      "1.333257710180594\n"
     ]
    },
    {
     "ename": "LinAlgError",
     "evalue": "Singular matrix",
     "output_type": "error",
     "traceback": [
      "\u001b[0;31m---------------------------------------------------------------------------\u001b[0m",
      "\u001b[0;31mLinAlgError\u001b[0m                               Traceback (most recent call last)",
      "\u001b[1;32m/home/me/OneDrive/Study/Numerical Analysis/Notebooks/Homeworks/Broyden.ipynb Cell 3'\u001b[0m in \u001b[0;36m<cell line: 5>\u001b[0;34m()\u001b[0m\n\u001b[1;32m      <a href='vscode-notebook-cell:/home/me/OneDrive/Study/Numerical%20Analysis/Notebooks/Homeworks/Broyden.ipynb#ch0000002?line=5'>6</a>\u001b[0m \u001b[39mif\u001b[39;00m i\u001b[39m%\u001b[39m\u001b[39m10\u001b[39m \u001b[39m==\u001b[39m\u001b[39m0\u001b[39m:\n\u001b[1;32m      <a href='vscode-notebook-cell:/home/me/OneDrive/Study/Numerical%20Analysis/Notebooks/Homeworks/Broyden.ipynb#ch0000002?line=6'>7</a>\u001b[0m     \u001b[39mprint\u001b[39m(np\u001b[39m.\u001b[39mlinalg\u001b[39m.\u001b[39mnorm(f(x)))\n\u001b[0;32m----> <a href='vscode-notebook-cell:/home/me/OneDrive/Study/Numerical%20Analysis/Notebooks/Homeworks/Broyden.ipynb#ch0000002?line=7'>8</a>\u001b[0m s \u001b[39m=\u001b[39m np\u001b[39m.\u001b[39;49mlinalg\u001b[39m.\u001b[39;49msolve(B,\u001b[39m-\u001b[39;49mf(x))\n\u001b[1;32m      <a href='vscode-notebook-cell:/home/me/OneDrive/Study/Numerical%20Analysis/Notebooks/Homeworks/Broyden.ipynb#ch0000002?line=8'>9</a>\u001b[0m y \u001b[39m=\u001b[39m f(x\u001b[39m+\u001b[39ms) \u001b[39m-\u001b[39m f(x)\n\u001b[1;32m     <a href='vscode-notebook-cell:/home/me/OneDrive/Study/Numerical%20Analysis/Notebooks/Homeworks/Broyden.ipynb#ch0000002?line=9'>10</a>\u001b[0m x \u001b[39m=\u001b[39m x\u001b[39m+\u001b[39ms\n",
      "File \u001b[0;32m<__array_function__ internals>:180\u001b[0m, in \u001b[0;36msolve\u001b[0;34m(*args, **kwargs)\u001b[0m\n",
      "File \u001b[0;32m~/OneDrive/Study/Numerical Analysis/numerical/lib/python3.10/site-packages/numpy/linalg/linalg.py:393\u001b[0m, in \u001b[0;36msolve\u001b[0;34m(a, b)\u001b[0m\n\u001b[1;32m    <a href='file:///home/me/OneDrive/Study/Numerical%20Analysis/numerical/lib/python3.10/site-packages/numpy/linalg/linalg.py?line=390'>391</a>\u001b[0m signature \u001b[39m=\u001b[39m \u001b[39m'\u001b[39m\u001b[39mDD->D\u001b[39m\u001b[39m'\u001b[39m \u001b[39mif\u001b[39;00m isComplexType(t) \u001b[39melse\u001b[39;00m \u001b[39m'\u001b[39m\u001b[39mdd->d\u001b[39m\u001b[39m'\u001b[39m\n\u001b[1;32m    <a href='file:///home/me/OneDrive/Study/Numerical%20Analysis/numerical/lib/python3.10/site-packages/numpy/linalg/linalg.py?line=391'>392</a>\u001b[0m extobj \u001b[39m=\u001b[39m get_linalg_error_extobj(_raise_linalgerror_singular)\n\u001b[0;32m--> <a href='file:///home/me/OneDrive/Study/Numerical%20Analysis/numerical/lib/python3.10/site-packages/numpy/linalg/linalg.py?line=392'>393</a>\u001b[0m r \u001b[39m=\u001b[39m gufunc(a, b, signature\u001b[39m=\u001b[39;49msignature, extobj\u001b[39m=\u001b[39;49mextobj)\n\u001b[1;32m    <a href='file:///home/me/OneDrive/Study/Numerical%20Analysis/numerical/lib/python3.10/site-packages/numpy/linalg/linalg.py?line=394'>395</a>\u001b[0m \u001b[39mreturn\u001b[39;00m wrap(r\u001b[39m.\u001b[39mastype(result_t, copy\u001b[39m=\u001b[39m\u001b[39mFalse\u001b[39;00m))\n",
      "File \u001b[0;32m~/OneDrive/Study/Numerical Analysis/numerical/lib/python3.10/site-packages/numpy/linalg/linalg.py:88\u001b[0m, in \u001b[0;36m_raise_linalgerror_singular\u001b[0;34m(err, flag)\u001b[0m\n\u001b[1;32m     <a href='file:///home/me/OneDrive/Study/Numerical%20Analysis/numerical/lib/python3.10/site-packages/numpy/linalg/linalg.py?line=86'>87</a>\u001b[0m \u001b[39mdef\u001b[39;00m \u001b[39m_raise_linalgerror_singular\u001b[39m(err, flag):\n\u001b[0;32m---> <a href='file:///home/me/OneDrive/Study/Numerical%20Analysis/numerical/lib/python3.10/site-packages/numpy/linalg/linalg.py?line=87'>88</a>\u001b[0m     \u001b[39mraise\u001b[39;00m LinAlgError(\u001b[39m\"\u001b[39m\u001b[39mSingular matrix\u001b[39m\u001b[39m\"\u001b[39m)\n",
      "\u001b[0;31mLinAlgError\u001b[0m: Singular matrix"
     ]
    }
   ],
   "source": [
    "x = np.array([0.8,0.8]).reshape((2,1))\n",
    "B = Jac(x)\n",
    "\n",
    "num_iter = 100\n",
    "for i in range(num_iter):\n",
    "    if i%10 ==0:\n",
    "        print(np.linalg.norm(f(x)))\n",
    "    s = np.linalg.solve(B,-f(x))\n",
    "    y = f(x+s) - f(x)\n",
    "    x = x+s\n",
    "    B = Broyden_step(B,y,s)\n",
    "    \n",
    "\n"
   ]
  },
  {
   "cell_type": "code",
   "execution_count": 27,
   "metadata": {},
   "outputs": [
    {
     "name": "stdout",
     "output_type": "stream",
     "text": [
      "[0.90886267 0.75074907]\n",
      "[[ 3.00299627  1.69256126]\n",
      " [ 2.47809407 -1.        ]]\n"
     ]
    }
   ],
   "source": [
    "from scipy.optimize import fsolve\n",
    "def f(x):\n",
    "    x_1 = x[0] \n",
    "    x_2 = x[1]\n",
    "    return np.array([x_1**4+x_2**4-1,x_1**3-x_2]) \n",
    "\n",
    "root = fsolve(f,[1,1])\n",
    "print(root)\n",
    "def Jac(x):\n",
    "    x_1 = x[0] \n",
    "    x_2 = x[1]\n",
    "    return np.array([[4*x_1**3,4*x_2**3],[3*x_1**2,-1]])\n",
    "\n",
    "\n",
    "print(Jac(root))"
   ]
  },
  {
   "cell_type": "code",
   "execution_count": null,
   "metadata": {},
   "outputs": [],
   "source": []
  }
 ],
 "metadata": {
  "interpreter": {
   "hash": "5f22949bd084d370d3f5e0df4e7f906340a800e779c7b2f4a405bb9e4155b55c"
  },
  "kernelspec": {
   "display_name": "Python 3.10.4 ('numerical': venv)",
   "language": "python",
   "name": "python3"
  },
  "language_info": {
   "codemirror_mode": {
    "name": "ipython",
    "version": 3
   },
   "file_extension": ".py",
   "mimetype": "text/x-python",
   "name": "python",
   "nbconvert_exporter": "python",
   "pygments_lexer": "ipython3",
   "version": "3.10.4"
  },
  "orig_nbformat": 4
 },
 "nbformat": 4,
 "nbformat_minor": 2
}
