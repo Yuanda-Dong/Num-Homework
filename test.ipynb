{
 "cells": [
  {
   "cell_type": "code",
   "execution_count": 2,
   "metadata": {},
   "outputs": [
    {
     "name": "stdout",
     "output_type": "stream",
     "text": [
      "(array([0.1, 1. ]), array([[0.        , 0.28734789],\n",
      "       [1.        , 0.95782629]]))\n"
     ]
    }
   ],
   "source": [
    "import numpy as np\n",
    "import numpy.linalg as la\n",
    "A = np.array([[1,0],[3,0.1]])\n",
    "print(la.eig(A))"
   ]
  }
 ],
 "metadata": {
  "interpreter": {
   "hash": "5f22949bd084d370d3f5e0df4e7f906340a800e779c7b2f4a405bb9e4155b55c"
  },
  "kernelspec": {
   "display_name": "Python 3.10.4 ('numerical': venv)",
   "language": "python",
   "name": "python3"
  },
  "language_info": {
   "codemirror_mode": {
    "name": "ipython",
    "version": 3
   },
   "file_extension": ".py",
   "mimetype": "text/x-python",
   "name": "python",
   "nbconvert_exporter": "python",
   "pygments_lexer": "ipython3",
   "version": "3.10.4"
  },
  "orig_nbformat": 4
 },
 "nbformat": 4,
 "nbformat_minor": 2
}
