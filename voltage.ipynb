{
 "cells": [
  {
   "cell_type": "code",
   "execution_count": 2,
   "metadata": {},
   "outputs": [
    {
     "name": "stderr",
     "output_type": "stream",
     "text": [
      "/tmp/ipykernel_22336/2882480949.py:15: DeprecationWarning: non-integer arguments to randrange() have been deprecated since Python 3.10 and will be removed in a subsequent version\n",
      "  ijnode = randrange((nnodes-1)*nnodes/2)\n"
     ]
    }
   ],
   "source": [
    "import numpy as np\n",
    "import numpy.linalg as la\n",
    "from random import randrange\n",
    "import matplotlib.pyplot as pt\n",
    "\n",
    "nnodes = 10\n",
    "circuit = [{i+1: randrange(1, 50) * 100}\n",
    "            if i+1 < nnodes\n",
    "            else {}\n",
    "           for i in range(nnodes)]\n",
    "\n",
    "nedges = int(nnodes**2 * 0.2)\n",
    "\n",
    "for i in range(nedges):\n",
    "    ijnode = randrange((nnodes-1)*nnodes/2)\n",
    "    jnode = 0\n",
    "    ijnode0 = 0\n",
    "    while True:\n",
    "        jnode += 1\n",
    "        ijnode0 += jnode\n",
    "        if ijnode0 > ijnode:\n",
    "            break\n",
    "    inode = ijnode - ijnode0 + jnode\n",
    "    circuit[inode][jnode] = randrange(1, 50) * 100\n",
    "\n",
    "fixed_voltages = {0: 5, nnodes-1: 0}\n",
    "\n",
    "def net_to_dot(net, fixed_voltages, voltages=None):\n",
    "    lines = []\n",
    "    for from_node_nr in range(len(net)):\n",
    "        connections = net[from_node_nr]\n",
    "        for to_node_nr, item in connections.items():\n",
    "            label = \"%r Ohms\" % item\n",
    "            arrow = \"none\"\n",
    "            color = \"black\"\n",
    "\n",
    "            lines.append(\n",
    "            'node%d -> node%d [label=\"%s\",arrowhead=\"%s\", fontcolor=\"%s\"];'\n",
    "            % (from_node_nr, to_node_nr, label, arrow, color))\n",
    "\n",
    "    if voltages is not None:\n",
    "        for node_nr in range(len(net)):\n",
    "            lines.append(\n",
    "            'node%d [label=\"node%d: %.2f V\"];'\n",
    "            % (node_nr, node_nr, voltages[node_nr]))\n",
    "\n",
    "    for node_nr, voltage in fixed_voltages.items():\n",
    "        lines.append('node%d -> voltage%d [arrowhead=\"none\"];\\n'\n",
    "                 'voltage%d [label=\"%s\",shape=box];\\n'\n",
    "                 % (node_nr, node_nr, node_nr, \"%r V\" % voltage))\n",
    "\n",
    "    return \"digraph network {\\n%s\\n}\" % \"\\n\".join(lines)\n",
    "\n",
    "def plot_circuit(circuit, fixed_voltages, voltages=None):\n",
    "    from tempfile import TemporaryDirectory\n",
    "    from os.path import join\n",
    "    from subprocess import check_call\n",
    "\n",
    "    with TemporaryDirectory() as td:\n",
    "        dot_name = \"x.dot\"\n",
    "        with open(join(td, dot_name), \"w\") as dotf:\n",
    "            dotf.write(net_to_dot(circuit, fixed_voltages, voltages=voltages))\n",
    "\n",
    "        png_name = \"x.png\"\n",
    "        with open(join(td, png_name), \"wb\") as pngf:\n",
    "            check_call([\"dot\", \"-Gdpi=200\", dot_name, \"-Tpng\"], stdout=pngf, cwd=td)\n",
    "\n",
    "        #from scipy.misc import imread\n",
    "        #png_data = imread(join(td, png_name))\n",
    "        from PIL import Image\n",
    "        im       = Image.open(join(td, png_name))\n",
    "        a        = np.asarray(im)\n",
    "        png_data = Image.fromarray(a)\n",
    "\n",
    "        pt.figure(figsize=(13,10))\n",
    "        pt.imshow(png_data)\n",
    "        pt.setp(pt.gca().get_xticklabels(), visible=False)\n",
    "        pt.setp(pt.gca().get_yticklabels(), visible=False)\n",
    "        pt.setp(pt.gca().get_xticklines(), visible=False)\n",
    "        pt.setp(pt.gca().get_yticklines(), visible=False)"
   ]
  },
  {
   "cell_type": "code",
   "execution_count": 26,
   "metadata": {},
   "outputs": [
    {
     "name": "stdout",
     "output_type": "stream",
     "text": [
      "[ 0.         -0.00022222  0.          0.         -0.002       0.\n",
      " -0.0005      0.         -0.00037037 -0.00058824]\n",
      "[-0.00058824  0.          0.          0.          0.          0.\n",
      "  0.          0.          0.          0.01155988]\n"
     ]
    },
    {
     "data": {
      "text/plain": [
       "array([2701.40648238, 1641.08961013, 1041.53944236, 1309.26752612,\n",
       "       1873.91831619,  848.11109647, 1338.26310852,  818.63278513,\n",
       "        371.2075093 ,  137.46365007])"
      ]
     },
     "execution_count": 26,
     "metadata": {},
     "output_type": "execute_result"
    }
   ],
   "source": [
    "L = np.zeros(shape=(10,10))\n",
    "for i in range(10):\n",
    "    for j in range(10):\n",
    "        if j in circuit[i]:\n",
    "            L[i][j] = -1/circuit[i][j]\n",
    "        elif i in circuit[j]:\n",
    "            L[i][j] = -1/circuit[j][i]\n",
    "        if i==j:\n",
    "            cur=0\n",
    "            for k in range(10):\n",
    "                if k in circuit[i]:\n",
    "                    cur += 1/circuit[i][k]\n",
    "                elif i in circuit[k]:\n",
    "                    cur += 1/circuit[k][i]\n",
    "            L[i][j]=cur\n",
    "L[0][0] = 0 \n",
    "L[9][1:9] = 0\n",
    "print(L[0])\n",
    "print(L[9])\n",
    "u=np.zeros(10)\n",
    "u[0] = -fixed_voltages[0]\n",
    "la.solve(L,u)"
   ]
  }
 ],
 "metadata": {
  "interpreter": {
   "hash": "9542a573e77c016bd676609df41fe16a4bb92c062b6496d3c3e8b1542c7bb5cb"
  },
  "kernelspec": {
   "display_name": "Python 3.10.4 ('numerical': venv)",
   "language": "python",
   "name": "python3"
  },
  "language_info": {
   "codemirror_mode": {
    "name": "ipython",
    "version": 3
   },
   "file_extension": ".py",
   "mimetype": "text/x-python",
   "name": "python",
   "nbconvert_exporter": "python",
   "pygments_lexer": "ipython3",
   "version": "3.10.4"
  },
  "orig_nbformat": 4
 },
 "nbformat": 4,
 "nbformat_minor": 2
}
